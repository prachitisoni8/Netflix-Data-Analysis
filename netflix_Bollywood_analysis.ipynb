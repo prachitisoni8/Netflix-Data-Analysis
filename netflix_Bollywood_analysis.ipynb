{
  "metadata": {
    "kernelspec": {
      "language": "python",
      "display_name": "Python 3",
      "name": "python3"
    },
    "language_info": {
      "name": "python",
      "version": "3.10.14",
      "mimetype": "text/x-python",
      "codemirror_mode": {
        "name": "ipython",
        "version": 3
      },
      "pygments_lexer": "ipython3",
      "nbconvert_exporter": "python",
      "file_extension": ".py"
    },
    "kaggle": {
      "accelerator": "none",
      "dataSources": [
        {
          "sourceId": 9629088,
          "sourceType": "datasetVersion",
          "datasetId": 5878115
        }
      ],
      "dockerImageVersionId": 30786,
      "isInternetEnabled": true,
      "language": "python",
      "sourceType": "notebook",
      "isGpuEnabled": false
    },
    "colab": {
      "provenance": [],
      "include_colab_link": true
    }
  },
  "nbformat_minor": 0,
  "nbformat": 4,
  "cells": [
    {
      "cell_type": "markdown",
      "metadata": {
        "id": "view-in-github",
        "colab_type": "text"
      },
      "source": [
        "<a href=\"https://colab.research.google.com/github/prachitisoni8/Netflix-Data-Analysis/blob/main/netflix_Bollywood_analysis.ipynb\" target=\"_parent\"><img src=\"https://colab.research.google.com/assets/colab-badge.svg\" alt=\"Open In Colab\"/></a>"
      ]
    },
    {
      "source": [
        "# IMPORTANT: RUN THIS CELL IN ORDER TO IMPORT YOUR KAGGLE DATA SOURCES,\n",
        "# THEN FEEL FREE TO DELETE THIS CELL.\n",
        "# NOTE: THIS NOTEBOOK ENVIRONMENT DIFFERS FROM KAGGLE'S PYTHON\n",
        "# ENVIRONMENT SO THERE MAY BE MISSING LIBRARIES USED BY YOUR\n",
        "# NOTEBOOK.\n",
        "import kagglehub\n",
        "ankulsharma150_netflix_data_analysis_path = kagglehub.dataset_download('ankulsharma150/netflix-data-analysis')\n",
        "\n",
        "print('Data source import complete.')\n"
      ],
      "metadata": {
        "id": "8lnusn0dkU1i"
      },
      "cell_type": "code",
      "outputs": [],
      "execution_count": null
    },
    {
      "cell_type": "code",
      "source": [],
      "metadata": {
        "id": "-j6e4F7fkq0p"
      },
      "execution_count": null,
      "outputs": []
    },
    {
      "cell_type": "code",
      "source": [
        "# This Python 3 environment comes with many helpful analytics libraries installed\n",
        "# It is defined by the kaggle/python Docker image: https://github.com/kaggle/docker-python\n",
        "# For example, here's several helpful packages to load\n",
        "\n",
        "import numpy as np # linear algebra\n",
        "import pandas as pd # data processing, CSV file I/O (e.g. pd.read_csv)\n",
        "\n",
        "# Input data files are available in the read-only \"../input/\" directory\n",
        "# For example, running this (by clicking run or pressing Shift+Enter) will list all files under the input directory\n",
        "\n",
        "import os\n",
        "for dirname, _, filenames in os.walk('/kaggle/input'):\n",
        "    for filename in filenames:\n",
        "        print(os.path.join(dirname, filename))\n",
        "\n",
        "# You can write up to 20GB to the current directory (/kaggle/working/) that gets preserved as output when you create a version using \"Save & Run All\"\n",
        "# You can also write temporary files to /kaggle/temp/, but they won't be saved outside of the current session"
      ],
      "metadata": {
        "_uuid": "8f2839f25d086af736a60e9eeb907d3b93b6e0e5",
        "_cell_guid": "b1076dfc-b9ad-4769-8c92-a6c4dae69d19",
        "execution": {
          "iopub.status.busy": "2024-10-20T16:04:15.983864Z",
          "iopub.execute_input": "2024-10-20T16:04:15.984338Z",
          "iopub.status.idle": "2024-10-20T16:04:15.998175Z",
          "shell.execute_reply.started": "2024-10-20T16:04:15.98428Z",
          "shell.execute_reply": "2024-10-20T16:04:15.996873Z"
        },
        "trusted": true,
        "id": "n_4Dj3w8kU1n",
        "outputId": "f2bc9c0e-ed62-45fd-8c25-ba5cbcce17f1"
      },
      "outputs": [
        {
          "name": "stdout",
          "text": "/kaggle/input/netflix-data-analysis/netflix_movies (1).csv\n",
          "output_type": "stream"
        }
      ],
      "execution_count": null
    },
    {
      "cell_type": "code",
      "source": [
        "import numpy as np\n",
        "import pandas as pd\n",
        "import plotly.express as px"
      ],
      "metadata": {
        "execution": {
          "iopub.status.busy": "2024-10-20T16:04:18.260715Z",
          "iopub.execute_input": "2024-10-20T16:04:18.261156Z",
          "iopub.status.idle": "2024-10-20T16:04:18.26678Z",
          "shell.execute_reply.started": "2024-10-20T16:04:18.261113Z",
          "shell.execute_reply": "2024-10-20T16:04:18.265385Z"
        },
        "trusted": true,
        "id": "jAlm4rxFkU1q"
      },
      "outputs": [],
      "execution_count": null
    },
    {
      "cell_type": "code",
      "source": [
        "netflix_data = pd.read_csv('/kaggle/input/netflix-data-analysis/netflix_movies (1).csv')\n",
        "netflix_data"
      ],
      "metadata": {
        "execution": {
          "iopub.status.busy": "2024-10-20T16:04:20.978221Z",
          "iopub.execute_input": "2024-10-20T16:04:20.97871Z",
          "iopub.status.idle": "2024-10-20T16:04:21.08865Z",
          "shell.execute_reply.started": "2024-10-20T16:04:20.978664Z",
          "shell.execute_reply": "2024-10-20T16:04:21.087378Z"
        },
        "trusted": true,
        "id": "jDxyt0TgkU1r",
        "outputId": "3a920444-05c0-4850-879f-7234b9747425"
      },
      "outputs": [
        {
          "execution_count": 18,
          "output_type": "execute_result",
          "data": {
            "text/plain": "     show_id     type                  title         director  \\\n0         s1    Movie   Dick Johnson Is Dead  Kirsten Johnson   \n1         s2  TV Show          Blood & Water              NaN   \n2         s3  TV Show              Ganglands  Julien Leclercq   \n3         s4  TV Show  Jailbirds New Orleans              NaN   \n4         s5  TV Show           Kota Factory              NaN   \n...      ...      ...                    ...              ...   \n8802   s8803    Movie                 Zodiac    David Fincher   \n8803   s8804  TV Show            Zombie Dumb              NaN   \n8804   s8805    Movie             Zombieland  Ruben Fleischer   \n8805   s8806    Movie                   Zoom     Peter Hewitt   \n8806   s8807    Movie                 Zubaan      Mozez Singh   \n\n                                                   cast        country  \\\n0                                                   NaN  United States   \n1     Ama Qamata, Khosi Ngema, Gail Mabalane, Thaban...   South Africa   \n2     Sami Bouajila, Tracy Gotoas, Samuel Jouy, Nabi...            NaN   \n3                                                   NaN            NaN   \n4     Mayur More, Jitendra Kumar, Ranjan Raj, Alam K...          India   \n...                                                 ...            ...   \n8802  Mark Ruffalo, Jake Gyllenhaal, Robert Downey J...  United States   \n8803                                                NaN            NaN   \n8804  Jesse Eisenberg, Woody Harrelson, Emma Stone, ...  United States   \n8805  Tim Allen, Courteney Cox, Chevy Chase, Kate Ma...  United States   \n8806  Vicky Kaushal, Sarah-Jane Dias, Raaghav Chanan...          India   \n\n              date_added  release_year rating   duration  \\\n0     September 25, 2021          2020  PG-13     90 min   \n1     September 24, 2021          2021  TV-MA  2 Seasons   \n2     September 24, 2021          2021  TV-MA   1 Season   \n3     September 24, 2021          2021  TV-MA   1 Season   \n4     September 24, 2021          2021  TV-MA  2 Seasons   \n...                  ...           ...    ...        ...   \n8802   November 20, 2019          2007      R    158 min   \n8803        July 1, 2019          2018  TV-Y7  2 Seasons   \n8804    November 1, 2019          2009      R     88 min   \n8805    January 11, 2020          2006     PG     88 min   \n8806       March 2, 2019          2015  TV-14    111 min   \n\n                                              listed_in  \\\n0                                         Documentaries   \n1       International TV Shows, TV Dramas, TV Mysteries   \n2     Crime TV Shows, International TV Shows, TV Act...   \n3                                Docuseries, Reality TV   \n4     International TV Shows, Romantic TV Shows, TV ...   \n...                                                 ...   \n8802                     Cult Movies, Dramas, Thrillers   \n8803             Kids' TV, Korean TV Shows, TV Comedies   \n8804                            Comedies, Horror Movies   \n8805                 Children & Family Movies, Comedies   \n8806     Dramas, International Movies, Music & Musicals   \n\n                                            description  \n0     As her father nears the end of his life, filmm...  \n1     After crossing paths at a party, a Cape Town t...  \n2     To protect his family from a powerful drug lor...  \n3     Feuds, flirtations and toilet talk go down amo...  \n4     In a city of coaching centers known to train I...  \n...                                                 ...  \n8802  A political cartoonist, a crime reporter and a...  \n8803  While living alone in a spooky town, a young g...  \n8804  Looking to survive in a world taken over by zo...  \n8805  Dragged from civilian life, a former superhero...  \n8806  A scrappy but poor boy worms his way into a ty...  \n\n[8807 rows x 12 columns]",
            "text/html": "<div>\n<style scoped>\n    .dataframe tbody tr th:only-of-type {\n        vertical-align: middle;\n    }\n\n    .dataframe tbody tr th {\n        vertical-align: top;\n    }\n\n    .dataframe thead th {\n        text-align: right;\n    }\n</style>\n<table border=\"1\" class=\"dataframe\">\n  <thead>\n    <tr style=\"text-align: right;\">\n      <th></th>\n      <th>show_id</th>\n      <th>type</th>\n      <th>title</th>\n      <th>director</th>\n      <th>cast</th>\n      <th>country</th>\n      <th>date_added</th>\n      <th>release_year</th>\n      <th>rating</th>\n      <th>duration</th>\n      <th>listed_in</th>\n      <th>description</th>\n    </tr>\n  </thead>\n  <tbody>\n    <tr>\n      <th>0</th>\n      <td>s1</td>\n      <td>Movie</td>\n      <td>Dick Johnson Is Dead</td>\n      <td>Kirsten Johnson</td>\n      <td>NaN</td>\n      <td>United States</td>\n      <td>September 25, 2021</td>\n      <td>2020</td>\n      <td>PG-13</td>\n      <td>90 min</td>\n      <td>Documentaries</td>\n      <td>As her father nears the end of his life, filmm...</td>\n    </tr>\n    <tr>\n      <th>1</th>\n      <td>s2</td>\n      <td>TV Show</td>\n      <td>Blood &amp; Water</td>\n      <td>NaN</td>\n      <td>Ama Qamata, Khosi Ngema, Gail Mabalane, Thaban...</td>\n      <td>South Africa</td>\n      <td>September 24, 2021</td>\n      <td>2021</td>\n      <td>TV-MA</td>\n      <td>2 Seasons</td>\n      <td>International TV Shows, TV Dramas, TV Mysteries</td>\n      <td>After crossing paths at a party, a Cape Town t...</td>\n    </tr>\n    <tr>\n      <th>2</th>\n      <td>s3</td>\n      <td>TV Show</td>\n      <td>Ganglands</td>\n      <td>Julien Leclercq</td>\n      <td>Sami Bouajila, Tracy Gotoas, Samuel Jouy, Nabi...</td>\n      <td>NaN</td>\n      <td>September 24, 2021</td>\n      <td>2021</td>\n      <td>TV-MA</td>\n      <td>1 Season</td>\n      <td>Crime TV Shows, International TV Shows, TV Act...</td>\n      <td>To protect his family from a powerful drug lor...</td>\n    </tr>\n    <tr>\n      <th>3</th>\n      <td>s4</td>\n      <td>TV Show</td>\n      <td>Jailbirds New Orleans</td>\n      <td>NaN</td>\n      <td>NaN</td>\n      <td>NaN</td>\n      <td>September 24, 2021</td>\n      <td>2021</td>\n      <td>TV-MA</td>\n      <td>1 Season</td>\n      <td>Docuseries, Reality TV</td>\n      <td>Feuds, flirtations and toilet talk go down amo...</td>\n    </tr>\n    <tr>\n      <th>4</th>\n      <td>s5</td>\n      <td>TV Show</td>\n      <td>Kota Factory</td>\n      <td>NaN</td>\n      <td>Mayur More, Jitendra Kumar, Ranjan Raj, Alam K...</td>\n      <td>India</td>\n      <td>September 24, 2021</td>\n      <td>2021</td>\n      <td>TV-MA</td>\n      <td>2 Seasons</td>\n      <td>International TV Shows, Romantic TV Shows, TV ...</td>\n      <td>In a city of coaching centers known to train I...</td>\n    </tr>\n    <tr>\n      <th>...</th>\n      <td>...</td>\n      <td>...</td>\n      <td>...</td>\n      <td>...</td>\n      <td>...</td>\n      <td>...</td>\n      <td>...</td>\n      <td>...</td>\n      <td>...</td>\n      <td>...</td>\n      <td>...</td>\n      <td>...</td>\n    </tr>\n    <tr>\n      <th>8802</th>\n      <td>s8803</td>\n      <td>Movie</td>\n      <td>Zodiac</td>\n      <td>David Fincher</td>\n      <td>Mark Ruffalo, Jake Gyllenhaal, Robert Downey J...</td>\n      <td>United States</td>\n      <td>November 20, 2019</td>\n      <td>2007</td>\n      <td>R</td>\n      <td>158 min</td>\n      <td>Cult Movies, Dramas, Thrillers</td>\n      <td>A political cartoonist, a crime reporter and a...</td>\n    </tr>\n    <tr>\n      <th>8803</th>\n      <td>s8804</td>\n      <td>TV Show</td>\n      <td>Zombie Dumb</td>\n      <td>NaN</td>\n      <td>NaN</td>\n      <td>NaN</td>\n      <td>July 1, 2019</td>\n      <td>2018</td>\n      <td>TV-Y7</td>\n      <td>2 Seasons</td>\n      <td>Kids' TV, Korean TV Shows, TV Comedies</td>\n      <td>While living alone in a spooky town, a young g...</td>\n    </tr>\n    <tr>\n      <th>8804</th>\n      <td>s8805</td>\n      <td>Movie</td>\n      <td>Zombieland</td>\n      <td>Ruben Fleischer</td>\n      <td>Jesse Eisenberg, Woody Harrelson, Emma Stone, ...</td>\n      <td>United States</td>\n      <td>November 1, 2019</td>\n      <td>2009</td>\n      <td>R</td>\n      <td>88 min</td>\n      <td>Comedies, Horror Movies</td>\n      <td>Looking to survive in a world taken over by zo...</td>\n    </tr>\n    <tr>\n      <th>8805</th>\n      <td>s8806</td>\n      <td>Movie</td>\n      <td>Zoom</td>\n      <td>Peter Hewitt</td>\n      <td>Tim Allen, Courteney Cox, Chevy Chase, Kate Ma...</td>\n      <td>United States</td>\n      <td>January 11, 2020</td>\n      <td>2006</td>\n      <td>PG</td>\n      <td>88 min</td>\n      <td>Children &amp; Family Movies, Comedies</td>\n      <td>Dragged from civilian life, a former superhero...</td>\n    </tr>\n    <tr>\n      <th>8806</th>\n      <td>s8807</td>\n      <td>Movie</td>\n      <td>Zubaan</td>\n      <td>Mozez Singh</td>\n      <td>Vicky Kaushal, Sarah-Jane Dias, Raaghav Chanan...</td>\n      <td>India</td>\n      <td>March 2, 2019</td>\n      <td>2015</td>\n      <td>TV-14</td>\n      <td>111 min</td>\n      <td>Dramas, International Movies, Music &amp; Musicals</td>\n      <td>A scrappy but poor boy worms his way into a ty...</td>\n    </tr>\n  </tbody>\n</table>\n<p>8807 rows × 12 columns</p>\n</div>"
          },
          "metadata": {}
        }
      ],
      "execution_count": null
    },
    {
      "cell_type": "code",
      "source": [
        "netflix_data.head()"
      ],
      "metadata": {
        "execution": {
          "iopub.status.busy": "2024-10-20T16:04:23.538831Z",
          "iopub.execute_input": "2024-10-20T16:04:23.53935Z",
          "iopub.status.idle": "2024-10-20T16:04:23.558929Z",
          "shell.execute_reply.started": "2024-10-20T16:04:23.539271Z",
          "shell.execute_reply": "2024-10-20T16:04:23.557583Z"
        },
        "trusted": true,
        "id": "Ba_uQlG4kU1r",
        "outputId": "9dd0702e-4b90-4ae7-935f-291313a3fc2a"
      },
      "outputs": [
        {
          "execution_count": 19,
          "output_type": "execute_result",
          "data": {
            "text/plain": "  show_id     type                  title         director  \\\n0      s1    Movie   Dick Johnson Is Dead  Kirsten Johnson   \n1      s2  TV Show          Blood & Water              NaN   \n2      s3  TV Show              Ganglands  Julien Leclercq   \n3      s4  TV Show  Jailbirds New Orleans              NaN   \n4      s5  TV Show           Kota Factory              NaN   \n\n                                                cast        country  \\\n0                                                NaN  United States   \n1  Ama Qamata, Khosi Ngema, Gail Mabalane, Thaban...   South Africa   \n2  Sami Bouajila, Tracy Gotoas, Samuel Jouy, Nabi...            NaN   \n3                                                NaN            NaN   \n4  Mayur More, Jitendra Kumar, Ranjan Raj, Alam K...          India   \n\n           date_added  release_year rating   duration  \\\n0  September 25, 2021          2020  PG-13     90 min   \n1  September 24, 2021          2021  TV-MA  2 Seasons   \n2  September 24, 2021          2021  TV-MA   1 Season   \n3  September 24, 2021          2021  TV-MA   1 Season   \n4  September 24, 2021          2021  TV-MA  2 Seasons   \n\n                                           listed_in  \\\n0                                      Documentaries   \n1    International TV Shows, TV Dramas, TV Mysteries   \n2  Crime TV Shows, International TV Shows, TV Act...   \n3                             Docuseries, Reality TV   \n4  International TV Shows, Romantic TV Shows, TV ...   \n\n                                         description  \n0  As her father nears the end of his life, filmm...  \n1  After crossing paths at a party, a Cape Town t...  \n2  To protect his family from a powerful drug lor...  \n3  Feuds, flirtations and toilet talk go down amo...  \n4  In a city of coaching centers known to train I...  ",
            "text/html": "<div>\n<style scoped>\n    .dataframe tbody tr th:only-of-type {\n        vertical-align: middle;\n    }\n\n    .dataframe tbody tr th {\n        vertical-align: top;\n    }\n\n    .dataframe thead th {\n        text-align: right;\n    }\n</style>\n<table border=\"1\" class=\"dataframe\">\n  <thead>\n    <tr style=\"text-align: right;\">\n      <th></th>\n      <th>show_id</th>\n      <th>type</th>\n      <th>title</th>\n      <th>director</th>\n      <th>cast</th>\n      <th>country</th>\n      <th>date_added</th>\n      <th>release_year</th>\n      <th>rating</th>\n      <th>duration</th>\n      <th>listed_in</th>\n      <th>description</th>\n    </tr>\n  </thead>\n  <tbody>\n    <tr>\n      <th>0</th>\n      <td>s1</td>\n      <td>Movie</td>\n      <td>Dick Johnson Is Dead</td>\n      <td>Kirsten Johnson</td>\n      <td>NaN</td>\n      <td>United States</td>\n      <td>September 25, 2021</td>\n      <td>2020</td>\n      <td>PG-13</td>\n      <td>90 min</td>\n      <td>Documentaries</td>\n      <td>As her father nears the end of his life, filmm...</td>\n    </tr>\n    <tr>\n      <th>1</th>\n      <td>s2</td>\n      <td>TV Show</td>\n      <td>Blood &amp; Water</td>\n      <td>NaN</td>\n      <td>Ama Qamata, Khosi Ngema, Gail Mabalane, Thaban...</td>\n      <td>South Africa</td>\n      <td>September 24, 2021</td>\n      <td>2021</td>\n      <td>TV-MA</td>\n      <td>2 Seasons</td>\n      <td>International TV Shows, TV Dramas, TV Mysteries</td>\n      <td>After crossing paths at a party, a Cape Town t...</td>\n    </tr>\n    <tr>\n      <th>2</th>\n      <td>s3</td>\n      <td>TV Show</td>\n      <td>Ganglands</td>\n      <td>Julien Leclercq</td>\n      <td>Sami Bouajila, Tracy Gotoas, Samuel Jouy, Nabi...</td>\n      <td>NaN</td>\n      <td>September 24, 2021</td>\n      <td>2021</td>\n      <td>TV-MA</td>\n      <td>1 Season</td>\n      <td>Crime TV Shows, International TV Shows, TV Act...</td>\n      <td>To protect his family from a powerful drug lor...</td>\n    </tr>\n    <tr>\n      <th>3</th>\n      <td>s4</td>\n      <td>TV Show</td>\n      <td>Jailbirds New Orleans</td>\n      <td>NaN</td>\n      <td>NaN</td>\n      <td>NaN</td>\n      <td>September 24, 2021</td>\n      <td>2021</td>\n      <td>TV-MA</td>\n      <td>1 Season</td>\n      <td>Docuseries, Reality TV</td>\n      <td>Feuds, flirtations and toilet talk go down amo...</td>\n    </tr>\n    <tr>\n      <th>4</th>\n      <td>s5</td>\n      <td>TV Show</td>\n      <td>Kota Factory</td>\n      <td>NaN</td>\n      <td>Mayur More, Jitendra Kumar, Ranjan Raj, Alam K...</td>\n      <td>India</td>\n      <td>September 24, 2021</td>\n      <td>2021</td>\n      <td>TV-MA</td>\n      <td>2 Seasons</td>\n      <td>International TV Shows, Romantic TV Shows, TV ...</td>\n      <td>In a city of coaching centers known to train I...</td>\n    </tr>\n  </tbody>\n</table>\n</div>"
          },
          "metadata": {}
        }
      ],
      "execution_count": null
    },
    {
      "cell_type": "code",
      "source": [
        "int_columns = netflix_data.select_dtypes('int').columns\n",
        "object_columns = netflix_data.select_dtypes('object').columns\n",
        "\n",
        "for i in netflix_data.columns:\n",
        "    if i in int_columns:\n",
        "        netflix_data[i] = netflix_data[i].fillna(0)\n",
        "    if i in object_columns:\n",
        "        netflix_data[i] = netflix_data[i].fillna('Not Available')"
      ],
      "metadata": {
        "execution": {
          "iopub.status.busy": "2024-10-20T16:04:25.738957Z",
          "iopub.execute_input": "2024-10-20T16:04:25.739438Z",
          "iopub.status.idle": "2024-10-20T16:04:25.769681Z",
          "shell.execute_reply.started": "2024-10-20T16:04:25.739394Z",
          "shell.execute_reply": "2024-10-20T16:04:25.768574Z"
        },
        "trusted": true,
        "id": "x4Le6IkYkU1t"
      },
      "outputs": [],
      "execution_count": null
    },
    {
      "cell_type": "code",
      "source": [
        "netflix_data.isna().sum()"
      ],
      "metadata": {
        "execution": {
          "iopub.status.busy": "2024-10-20T16:04:28.699061Z",
          "iopub.execute_input": "2024-10-20T16:04:28.700254Z",
          "iopub.status.idle": "2024-10-20T16:04:28.73217Z",
          "shell.execute_reply.started": "2024-10-20T16:04:28.700183Z",
          "shell.execute_reply": "2024-10-20T16:04:28.730887Z"
        },
        "trusted": true,
        "id": "saX7G2SAkU1u",
        "outputId": "4adf05f7-ffdb-46a0-f130-21ad2536ffd2"
      },
      "outputs": [
        {
          "execution_count": 21,
          "output_type": "execute_result",
          "data": {
            "text/plain": "show_id         0\ntype            0\ntitle           0\ndirector        0\ncast            0\ncountry         0\ndate_added      0\nrelease_year    0\nrating          0\nduration        0\nlisted_in       0\ndescription     0\ndtype: int64"
          },
          "metadata": {}
        }
      ],
      "execution_count": null
    },
    {
      "cell_type": "code",
      "source": [
        "netflix_data['duration'].unique()"
      ],
      "metadata": {
        "execution": {
          "iopub.status.busy": "2024-10-20T16:04:31.785618Z",
          "iopub.execute_input": "2024-10-20T16:04:31.786122Z",
          "iopub.status.idle": "2024-10-20T16:04:31.79617Z",
          "shell.execute_reply.started": "2024-10-20T16:04:31.786074Z",
          "shell.execute_reply": "2024-10-20T16:04:31.795067Z"
        },
        "trusted": true,
        "id": "FUEtZwtIkU1w",
        "outputId": "98804b42-96da-4995-ce91-6692e418ffe7"
      },
      "outputs": [
        {
          "execution_count": 22,
          "output_type": "execute_result",
          "data": {
            "text/plain": "array(['90 min', '2 Seasons', '1 Season', '91 min', '125 min',\n       '9 Seasons', '104 min', '127 min', '4 Seasons', '67 min', '94 min',\n       '5 Seasons', '161 min', '61 min', '166 min', '147 min', '103 min',\n       '97 min', '106 min', '111 min', '3 Seasons', '110 min', '105 min',\n       '96 min', '124 min', '116 min', '98 min', '23 min', '115 min',\n       '122 min', '99 min', '88 min', '100 min', '6 Seasons', '102 min',\n       '93 min', '95 min', '85 min', '83 min', '113 min', '13 min',\n       '182 min', '48 min', '145 min', '87 min', '92 min', '80 min',\n       '117 min', '128 min', '119 min', '143 min', '114 min', '118 min',\n       '108 min', '63 min', '121 min', '142 min', '154 min', '120 min',\n       '82 min', '109 min', '101 min', '86 min', '229 min', '76 min',\n       '89 min', '156 min', '112 min', '107 min', '129 min', '135 min',\n       '136 min', '165 min', '150 min', '133 min', '70 min', '84 min',\n       '140 min', '78 min', '7 Seasons', '64 min', '59 min', '139 min',\n       '69 min', '148 min', '189 min', '141 min', '130 min', '138 min',\n       '81 min', '132 min', '10 Seasons', '123 min', '65 min', '68 min',\n       '66 min', '62 min', '74 min', '131 min', '39 min', '46 min',\n       '38 min', '8 Seasons', '17 Seasons', '126 min', '155 min',\n       '159 min', '137 min', '12 min', '273 min', '36 min', '34 min',\n       '77 min', '60 min', '49 min', '58 min', '72 min', '204 min',\n       '212 min', '25 min', '73 min', '29 min', '47 min', '32 min',\n       '35 min', '71 min', '149 min', '33 min', '15 min', '54 min',\n       '224 min', '162 min', '37 min', '75 min', '79 min', '55 min',\n       '158 min', '164 min', '173 min', '181 min', '185 min', '21 min',\n       '24 min', '51 min', '151 min', '42 min', '22 min', '134 min',\n       '177 min', '13 Seasons', '52 min', '14 min', '53 min', '8 min',\n       '57 min', '28 min', '50 min', '9 min', '26 min', '45 min',\n       '171 min', '27 min', '44 min', '146 min', '20 min', '157 min',\n       '17 min', '203 min', '41 min', '30 min', '194 min', '15 Seasons',\n       '233 min', '237 min', '230 min', '195 min', '253 min', '152 min',\n       '190 min', '160 min', '208 min', '180 min', '144 min', '5 min',\n       '174 min', '170 min', '192 min', '209 min', '187 min', '172 min',\n       '16 min', '186 min', '11 min', '193 min', '176 min', '56 min',\n       '169 min', '40 min', '10 min', '3 min', '168 min', '312 min',\n       '153 min', '214 min', '31 min', '163 min', '19 min', '12 Seasons',\n       'Not Available', '179 min', '11 Seasons', '43 min', '200 min',\n       '196 min', '167 min', '178 min', '228 min', '18 min', '205 min',\n       '201 min', '191 min'], dtype=object)"
          },
          "metadata": {}
        }
      ],
      "execution_count": null
    },
    {
      "cell_type": "code",
      "source": [
        "netflix_data['duration'] = netflix_data['duration'].str.replace('Seasons', 'Season')\n",
        "netflix_data['duration'].unique()"
      ],
      "metadata": {
        "execution": {
          "iopub.status.busy": "2024-10-20T16:04:35.583525Z",
          "iopub.execute_input": "2024-10-20T16:04:35.585063Z",
          "iopub.status.idle": "2024-10-20T16:04:35.600849Z",
          "shell.execute_reply.started": "2024-10-20T16:04:35.585Z",
          "shell.execute_reply": "2024-10-20T16:04:35.599595Z"
        },
        "trusted": true,
        "id": "0ct5QPiRkU1x",
        "outputId": "4ac26ec8-347d-47ca-9b51-0bfb88776cea"
      },
      "outputs": [
        {
          "execution_count": 23,
          "output_type": "execute_result",
          "data": {
            "text/plain": "array(['90 min', '2 Season', '1 Season', '91 min', '125 min', '9 Season',\n       '104 min', '127 min', '4 Season', '67 min', '94 min', '5 Season',\n       '161 min', '61 min', '166 min', '147 min', '103 min', '97 min',\n       '106 min', '111 min', '3 Season', '110 min', '105 min', '96 min',\n       '124 min', '116 min', '98 min', '23 min', '115 min', '122 min',\n       '99 min', '88 min', '100 min', '6 Season', '102 min', '93 min',\n       '95 min', '85 min', '83 min', '113 min', '13 min', '182 min',\n       '48 min', '145 min', '87 min', '92 min', '80 min', '117 min',\n       '128 min', '119 min', '143 min', '114 min', '118 min', '108 min',\n       '63 min', '121 min', '142 min', '154 min', '120 min', '82 min',\n       '109 min', '101 min', '86 min', '229 min', '76 min', '89 min',\n       '156 min', '112 min', '107 min', '129 min', '135 min', '136 min',\n       '165 min', '150 min', '133 min', '70 min', '84 min', '140 min',\n       '78 min', '7 Season', '64 min', '59 min', '139 min', '69 min',\n       '148 min', '189 min', '141 min', '130 min', '138 min', '81 min',\n       '132 min', '10 Season', '123 min', '65 min', '68 min', '66 min',\n       '62 min', '74 min', '131 min', '39 min', '46 min', '38 min',\n       '8 Season', '17 Season', '126 min', '155 min', '159 min',\n       '137 min', '12 min', '273 min', '36 min', '34 min', '77 min',\n       '60 min', '49 min', '58 min', '72 min', '204 min', '212 min',\n       '25 min', '73 min', '29 min', '47 min', '32 min', '35 min',\n       '71 min', '149 min', '33 min', '15 min', '54 min', '224 min',\n       '162 min', '37 min', '75 min', '79 min', '55 min', '158 min',\n       '164 min', '173 min', '181 min', '185 min', '21 min', '24 min',\n       '51 min', '151 min', '42 min', '22 min', '134 min', '177 min',\n       '13 Season', '52 min', '14 min', '53 min', '8 min', '57 min',\n       '28 min', '50 min', '9 min', '26 min', '45 min', '171 min',\n       '27 min', '44 min', '146 min', '20 min', '157 min', '17 min',\n       '203 min', '41 min', '30 min', '194 min', '15 Season', '233 min',\n       '237 min', '230 min', '195 min', '253 min', '152 min', '190 min',\n       '160 min', '208 min', '180 min', '144 min', '5 min', '174 min',\n       '170 min', '192 min', '209 min', '187 min', '172 min', '16 min',\n       '186 min', '11 min', '193 min', '176 min', '56 min', '169 min',\n       '40 min', '10 min', '3 min', '168 min', '312 min', '153 min',\n       '214 min', '31 min', '163 min', '19 min', '12 Season',\n       'Not Available', '179 min', '11 Season', '43 min', '200 min',\n       '196 min', '167 min', '178 min', '228 min', '18 min', '205 min',\n       '201 min', '191 min'], dtype=object)"
          },
          "metadata": {}
        }
      ],
      "execution_count": null
    },
    {
      "cell_type": "code",
      "source": [
        "month_show = netflix_data.groupby('type').agg({'type':'count'}).rename(columns= {'type':'show_release'})\n",
        "netflix_data['type'].isna().sum()"
      ],
      "metadata": {
        "execution": {
          "iopub.status.busy": "2024-10-20T16:04:38.368884Z",
          "iopub.execute_input": "2024-10-20T16:04:38.369308Z",
          "iopub.status.idle": "2024-10-20T16:04:38.386407Z",
          "shell.execute_reply.started": "2024-10-20T16:04:38.369267Z",
          "shell.execute_reply": "2024-10-20T16:04:38.385289Z"
        },
        "trusted": true,
        "id": "ViYilsdikU1y",
        "outputId": "801797ff-0060-4e7e-e4f8-645bf5b74caf"
      },
      "outputs": [
        {
          "execution_count": 24,
          "output_type": "execute_result",
          "data": {
            "text/plain": "0"
          },
          "metadata": {}
        }
      ],
      "execution_count": null
    },
    {
      "cell_type": "code",
      "source": [
        "netflix_data.columns"
      ],
      "metadata": {
        "execution": {
          "iopub.status.busy": "2024-10-20T16:05:18.400233Z",
          "iopub.execute_input": "2024-10-20T16:05:18.400715Z",
          "iopub.status.idle": "2024-10-20T16:05:18.408249Z",
          "shell.execute_reply.started": "2024-10-20T16:05:18.400671Z",
          "shell.execute_reply": "2024-10-20T16:05:18.406851Z"
        },
        "trusted": true,
        "id": "VQSmxIjykU1z",
        "outputId": "261b4529-6dd6-4560-fe7a-409ba67af35f"
      },
      "outputs": [
        {
          "execution_count": 26,
          "output_type": "execute_result",
          "data": {
            "text/plain": "Index(['show_id', 'type', 'title', 'director', 'cast', 'country', 'date_added',\n       'release_year', 'rating', 'duration', 'listed_in', 'description'],\n      dtype='object')"
          },
          "metadata": {}
        }
      ],
      "execution_count": null
    },
    {
      "cell_type": "code",
      "source": [
        "netflix_data.rating.unique()"
      ],
      "metadata": {
        "execution": {
          "iopub.status.busy": "2024-10-20T16:05:30.099585Z",
          "iopub.execute_input": "2024-10-20T16:05:30.100402Z",
          "iopub.status.idle": "2024-10-20T16:05:30.108845Z",
          "shell.execute_reply.started": "2024-10-20T16:05:30.100349Z",
          "shell.execute_reply": "2024-10-20T16:05:30.107663Z"
        },
        "trusted": true,
        "id": "aaDnptqekU10",
        "outputId": "1dd84028-ec30-4536-a0e8-676039c393fa"
      },
      "outputs": [
        {
          "execution_count": 27,
          "output_type": "execute_result",
          "data": {
            "text/plain": "array(['PG-13', 'TV-MA', 'PG', 'TV-14', 'TV-PG', 'TV-Y', 'TV-Y7', 'R',\n       'TV-G', 'G', 'NC-17', '74 min', '84 min', '66 min', 'NR',\n       'Not Available', 'TV-Y7-FV', 'UR'], dtype=object)"
          },
          "metadata": {}
        }
      ],
      "execution_count": null
    },
    {
      "cell_type": "code",
      "source": [
        "rating_count = netflix_data.groupby('rating').agg({'rating':'count'}).rename( columns= {'rating':'Number_of_rating'}).reset_index()\n",
        "rating_count.columns"
      ],
      "metadata": {
        "execution": {
          "iopub.status.busy": "2024-10-20T16:05:58.619294Z",
          "iopub.execute_input": "2024-10-20T16:05:58.619806Z",
          "iopub.status.idle": "2024-10-20T16:05:58.634888Z",
          "shell.execute_reply.started": "2024-10-20T16:05:58.619765Z",
          "shell.execute_reply": "2024-10-20T16:05:58.633661Z"
        },
        "trusted": true,
        "id": "wboP2MFRkU10",
        "outputId": "5f633667-4c5b-4ed1-b000-5f0977e6b23b"
      },
      "outputs": [
        {
          "execution_count": 29,
          "output_type": "execute_result",
          "data": {
            "text/plain": "Index(['rating', 'Number_of_rating'], dtype='object')"
          },
          "metadata": {}
        }
      ],
      "execution_count": null
    },
    {
      "cell_type": "markdown",
      "source": [
        "# shows type on netflix"
      ],
      "metadata": {
        "id": "MI3xGJkJkU11"
      }
    },
    {
      "cell_type": "code",
      "source": [
        "netflix_data.groupby('type').agg({'type':'count'}).rename(columns={'type':'count'}).reset_index()"
      ],
      "metadata": {
        "execution": {
          "iopub.status.busy": "2024-10-20T16:06:58.6186Z",
          "iopub.execute_input": "2024-10-20T16:06:58.619059Z",
          "iopub.status.idle": "2024-10-20T16:06:58.635588Z",
          "shell.execute_reply.started": "2024-10-20T16:06:58.619015Z",
          "shell.execute_reply": "2024-10-20T16:06:58.634434Z"
        },
        "trusted": true,
        "id": "-RriQclxkU14",
        "outputId": "f59bf89a-4588-44e6-d711-3a2903be2d06"
      },
      "outputs": [
        {
          "execution_count": 30,
          "output_type": "execute_result",
          "data": {
            "text/plain": "      type  count\n0    Movie   6131\n1  TV Show   2676",
            "text/html": "<div>\n<style scoped>\n    .dataframe tbody tr th:only-of-type {\n        vertical-align: middle;\n    }\n\n    .dataframe tbody tr th {\n        vertical-align: top;\n    }\n\n    .dataframe thead th {\n        text-align: right;\n    }\n</style>\n<table border=\"1\" class=\"dataframe\">\n  <thead>\n    <tr style=\"text-align: right;\">\n      <th></th>\n      <th>type</th>\n      <th>count</th>\n    </tr>\n  </thead>\n  <tbody>\n    <tr>\n      <th>0</th>\n      <td>Movie</td>\n      <td>6131</td>\n    </tr>\n    <tr>\n      <th>1</th>\n      <td>TV Show</td>\n      <td>2676</td>\n    </tr>\n  </tbody>\n</table>\n</div>"
          },
          "metadata": {}
        }
      ],
      "execution_count": null
    },
    {
      "cell_type": "code",
      "source": [
        "netflix_data.type.value_counts().reset_index(name= 'count')"
      ],
      "metadata": {
        "execution": {
          "iopub.status.busy": "2024-10-20T16:07:48.129191Z",
          "iopub.execute_input": "2024-10-20T16:07:48.129681Z",
          "iopub.status.idle": "2024-10-20T16:07:48.146776Z",
          "shell.execute_reply.started": "2024-10-20T16:07:48.129636Z",
          "shell.execute_reply": "2024-10-20T16:07:48.145556Z"
        },
        "trusted": true,
        "id": "og6y-9BzkU15",
        "outputId": "0c5876bc-e9b4-4236-d962-039913a55183"
      },
      "outputs": [
        {
          "execution_count": 32,
          "output_type": "execute_result",
          "data": {
            "text/plain": "      type  count\n0    Movie   6131\n1  TV Show   2676",
            "text/html": "<div>\n<style scoped>\n    .dataframe tbody tr th:only-of-type {\n        vertical-align: middle;\n    }\n\n    .dataframe tbody tr th {\n        vertical-align: top;\n    }\n\n    .dataframe thead th {\n        text-align: right;\n    }\n</style>\n<table border=\"1\" class=\"dataframe\">\n  <thead>\n    <tr style=\"text-align: right;\">\n      <th></th>\n      <th>type</th>\n      <th>count</th>\n    </tr>\n  </thead>\n  <tbody>\n    <tr>\n      <th>0</th>\n      <td>Movie</td>\n      <td>6131</td>\n    </tr>\n    <tr>\n      <th>1</th>\n      <td>TV Show</td>\n      <td>2676</td>\n    </tr>\n  </tbody>\n</table>\n</div>"
          },
          "metadata": {}
        }
      ],
      "execution_count": null
    },
    {
      "cell_type": "code",
      "source": [
        "movie_show = netflix_data.type.value_counts().reset_index()\n",
        "movie_show"
      ],
      "metadata": {
        "execution": {
          "iopub.status.busy": "2024-10-20T16:07:59.644259Z",
          "iopub.execute_input": "2024-10-20T16:07:59.644749Z",
          "iopub.status.idle": "2024-10-20T16:07:59.658623Z",
          "shell.execute_reply.started": "2024-10-20T16:07:59.644705Z",
          "shell.execute_reply": "2024-10-20T16:07:59.657229Z"
        },
        "trusted": true,
        "id": "K7GQk287kU15",
        "outputId": "91b89276-d956-4bac-956e-e9bd956d199f"
      },
      "outputs": [
        {
          "execution_count": 33,
          "output_type": "execute_result",
          "data": {
            "text/plain": "      type  count\n0    Movie   6131\n1  TV Show   2676",
            "text/html": "<div>\n<style scoped>\n    .dataframe tbody tr th:only-of-type {\n        vertical-align: middle;\n    }\n\n    .dataframe tbody tr th {\n        vertical-align: top;\n    }\n\n    .dataframe thead th {\n        text-align: right;\n    }\n</style>\n<table border=\"1\" class=\"dataframe\">\n  <thead>\n    <tr style=\"text-align: right;\">\n      <th></th>\n      <th>type</th>\n      <th>count</th>\n    </tr>\n  </thead>\n  <tbody>\n    <tr>\n      <th>0</th>\n      <td>Movie</td>\n      <td>6131</td>\n    </tr>\n    <tr>\n      <th>1</th>\n      <td>TV Show</td>\n      <td>2676</td>\n    </tr>\n  </tbody>\n</table>\n</div>"
          },
          "metadata": {}
        }
      ],
      "execution_count": null
    },
    {
      "cell_type": "code",
      "source": [
        "fig = px.bar(movie_show, x='type', y= 'count', color= 'type', title = 'comparison of movie vs Tv show')\n",
        "fig.update_layout(xaxis= dict(showgrid= False, title= 'Movies & TV shows'),\n",
        "                  yaxis= dict(showgrid= False, title= 'Counts'),\n",
        "                 plot_bgcolor= 'brown',\n",
        "                 title_font= dict(size=20))\n",
        "fig.show()"
      ],
      "metadata": {
        "trusted": true,
        "id": "M4S8YVj3kU16"
      },
      "outputs": [],
      "execution_count": null
    },
    {
      "cell_type": "code",
      "source": [
        " netflix_data.dtypes"
      ],
      "metadata": {
        "execution": {
          "iopub.status.busy": "2024-10-20T16:12:03.019335Z",
          "iopub.execute_input": "2024-10-20T16:12:03.019757Z",
          "iopub.status.idle": "2024-10-20T16:12:03.030192Z",
          "shell.execute_reply.started": "2024-10-20T16:12:03.019718Z",
          "shell.execute_reply": "2024-10-20T16:12:03.028735Z"
        },
        "trusted": true,
        "id": "jb6yIkR4kU16",
        "outputId": "f22cc5e3-6239-4c19-f8fd-429373035e70"
      },
      "outputs": [
        {
          "execution_count": 39,
          "output_type": "execute_result",
          "data": {
            "text/plain": "show_id         object\ntype            object\ntitle           object\ndirector        object\ncast            object\ncountry         object\ndate_added      object\nrelease_year     int64\nrating          object\nduration        object\nlisted_in       object\ndescription     object\ndtype: object"
          },
          "metadata": {}
        }
      ],
      "execution_count": null
    },
    {
      "cell_type": "markdown",
      "source": [
        "# Which director has made the most TV shows?"
      ],
      "metadata": {
        "id": "RjPFOQW6kU17"
      }
    },
    {
      "cell_type": "code",
      "source": [
        "director_show_filter= netflix_data[~netflix_data['director'].str.contains('Not Available')]\n",
        "director_show = director_show_filter['director'].value_counts().reset_index().head(10)\n",
        "director_show"
      ],
      "metadata": {
        "execution": {
          "iopub.status.busy": "2024-10-20T16:15:04.619043Z",
          "iopub.execute_input": "2024-10-20T16:15:04.619521Z",
          "iopub.status.idle": "2024-10-20T16:15:04.645858Z",
          "shell.execute_reply.started": "2024-10-20T16:15:04.619477Z",
          "shell.execute_reply": "2024-10-20T16:15:04.644724Z"
        },
        "trusted": true,
        "id": "p1LKOp7hkU17",
        "outputId": "7698b0c5-072d-4f4b-8a49-33cf97a074bc"
      },
      "outputs": [
        {
          "execution_count": 40,
          "output_type": "execute_result",
          "data": {
            "text/plain": "                 director  count\n0           Rajiv Chilaka     19\n1  Raúl Campos, Jan Suter     18\n2            Marcus Raboy     16\n3             Suhas Kadav     16\n4               Jay Karas     14\n5     Cathy Garcia-Molina     13\n6         Martin Scorsese     12\n7         Youssef Chahine     12\n8             Jay Chapman     12\n9        Steven Spielberg     11",
            "text/html": "<div>\n<style scoped>\n    .dataframe tbody tr th:only-of-type {\n        vertical-align: middle;\n    }\n\n    .dataframe tbody tr th {\n        vertical-align: top;\n    }\n\n    .dataframe thead th {\n        text-align: right;\n    }\n</style>\n<table border=\"1\" class=\"dataframe\">\n  <thead>\n    <tr style=\"text-align: right;\">\n      <th></th>\n      <th>director</th>\n      <th>count</th>\n    </tr>\n  </thead>\n  <tbody>\n    <tr>\n      <th>0</th>\n      <td>Rajiv Chilaka</td>\n      <td>19</td>\n    </tr>\n    <tr>\n      <th>1</th>\n      <td>Raúl Campos, Jan Suter</td>\n      <td>18</td>\n    </tr>\n    <tr>\n      <th>2</th>\n      <td>Marcus Raboy</td>\n      <td>16</td>\n    </tr>\n    <tr>\n      <th>3</th>\n      <td>Suhas Kadav</td>\n      <td>16</td>\n    </tr>\n    <tr>\n      <th>4</th>\n      <td>Jay Karas</td>\n      <td>14</td>\n    </tr>\n    <tr>\n      <th>5</th>\n      <td>Cathy Garcia-Molina</td>\n      <td>13</td>\n    </tr>\n    <tr>\n      <th>6</th>\n      <td>Martin Scorsese</td>\n      <td>12</td>\n    </tr>\n    <tr>\n      <th>7</th>\n      <td>Youssef Chahine</td>\n      <td>12</td>\n    </tr>\n    <tr>\n      <th>8</th>\n      <td>Jay Chapman</td>\n      <td>12</td>\n    </tr>\n    <tr>\n      <th>9</th>\n      <td>Steven Spielberg</td>\n      <td>11</td>\n    </tr>\n  </tbody>\n</table>\n</div>"
          },
          "metadata": {}
        }
      ],
      "execution_count": null
    },
    {
      "cell_type": "code",
      "source": [
        "fig = px.bar(director_show, x= 'director', y= 'count', title= 'top director who has made more than 10 TV Shows')\n",
        "fig.update_traces(texttemplate='%{y}', textposition='outside', marker_color= '#722f37', textfont= dict(color= '#722f37'))\n",
        "fig.update_layout(yaxis= dict(title= 'Shows Counts', showgrid= False),\n",
        "                  xaxis= dict(showgrid= False, title= 'Director Name'),\n",
        "                  plot_bgcolor= '#1c1c1c')\n",
        "fig.show()\n"
      ],
      "metadata": {
        "execution": {
          "iopub.status.busy": "2024-10-20T16:15:49.155272Z",
          "iopub.execute_input": "2024-10-20T16:15:49.155753Z",
          "iopub.status.idle": "2024-10-20T16:15:49.272441Z",
          "shell.execute_reply.started": "2024-10-20T16:15:49.155707Z",
          "shell.execute_reply": "2024-10-20T16:15:49.271146Z"
        },
        "trusted": true,
        "id": "TEaA-TBHkU18",
        "outputId": "30955778-ee6a-42c6-93a8-9ddeaa53e54d"
      },
      "outputs": [
        {
          "output_type": "display_data",
          "data": {
            "text/html": "<div>                            <div id=\"e3d96917-56c7-447e-871e-a3ddf088346a\" class=\"plotly-graph-div\" style=\"height:525px; width:100%;\"></div>            <script type=\"text/javascript\">                require([\"plotly\"], function(Plotly) {                    window.PLOTLYENV=window.PLOTLYENV || {};                                    if (document.getElementById(\"e3d96917-56c7-447e-871e-a3ddf088346a\")) {                    Plotly.newPlot(                        \"e3d96917-56c7-447e-871e-a3ddf088346a\",                        [{\"alignmentgroup\":\"True\",\"hovertemplate\":\"director=%{x}\\u003cbr\\u003ecount=%{y}\\u003cextra\\u003e\\u003c\\u002fextra\\u003e\",\"legendgroup\":\"\",\"marker\":{\"color\":\"#722f37\",\"pattern\":{\"shape\":\"\"}},\"name\":\"\",\"offsetgroup\":\"\",\"orientation\":\"v\",\"showlegend\":false,\"textposition\":\"outside\",\"x\":[\"Rajiv Chilaka\",\"Raúl Campos, Jan Suter\",\"Marcus Raboy\",\"Suhas Kadav\",\"Jay Karas\",\"Cathy Garcia-Molina\",\"Martin Scorsese\",\"Youssef Chahine\",\"Jay Chapman\",\"Steven Spielberg\"],\"xaxis\":\"x\",\"y\":[19,18,16,16,14,13,12,12,12,11],\"yaxis\":\"y\",\"type\":\"bar\",\"textfont\":{\"color\":\"#722f37\"},\"texttemplate\":\"%{y}\"}],                        {\"template\":{\"data\":{\"histogram2dcontour\":[{\"type\":\"histogram2dcontour\",\"colorbar\":{\"outlinewidth\":0,\"ticks\":\"\"},\"colorscale\":[[0.0,\"#0d0887\"],[0.1111111111111111,\"#46039f\"],[0.2222222222222222,\"#7201a8\"],[0.3333333333333333,\"#9c179e\"],[0.4444444444444444,\"#bd3786\"],[0.5555555555555556,\"#d8576b\"],[0.6666666666666666,\"#ed7953\"],[0.7777777777777778,\"#fb9f3a\"],[0.8888888888888888,\"#fdca26\"],[1.0,\"#f0f921\"]]}],\"choropleth\":[{\"type\":\"choropleth\",\"colorbar\":{\"outlinewidth\":0,\"ticks\":\"\"}}],\"histogram2d\":[{\"type\":\"histogram2d\",\"colorbar\":{\"outlinewidth\":0,\"ticks\":\"\"},\"colorscale\":[[0.0,\"#0d0887\"],[0.1111111111111111,\"#46039f\"],[0.2222222222222222,\"#7201a8\"],[0.3333333333333333,\"#9c179e\"],[0.4444444444444444,\"#bd3786\"],[0.5555555555555556,\"#d8576b\"],[0.6666666666666666,\"#ed7953\"],[0.7777777777777778,\"#fb9f3a\"],[0.8888888888888888,\"#fdca26\"],[1.0,\"#f0f921\"]]}],\"heatmap\":[{\"type\":\"heatmap\",\"colorbar\":{\"outlinewidth\":0,\"ticks\":\"\"},\"colorscale\":[[0.0,\"#0d0887\"],[0.1111111111111111,\"#46039f\"],[0.2222222222222222,\"#7201a8\"],[0.3333333333333333,\"#9c179e\"],[0.4444444444444444,\"#bd3786\"],[0.5555555555555556,\"#d8576b\"],[0.6666666666666666,\"#ed7953\"],[0.7777777777777778,\"#fb9f3a\"],[0.8888888888888888,\"#fdca26\"],[1.0,\"#f0f921\"]]}],\"heatmapgl\":[{\"type\":\"heatmapgl\",\"colorbar\":{\"outlinewidth\":0,\"ticks\":\"\"},\"colorscale\":[[0.0,\"#0d0887\"],[0.1111111111111111,\"#46039f\"],[0.2222222222222222,\"#7201a8\"],[0.3333333333333333,\"#9c179e\"],[0.4444444444444444,\"#bd3786\"],[0.5555555555555556,\"#d8576b\"],[0.6666666666666666,\"#ed7953\"],[0.7777777777777778,\"#fb9f3a\"],[0.8888888888888888,\"#fdca26\"],[1.0,\"#f0f921\"]]}],\"contourcarpet\":[{\"type\":\"contourcarpet\",\"colorbar\":{\"outlinewidth\":0,\"ticks\":\"\"}}],\"contour\":[{\"type\":\"contour\",\"colorbar\":{\"outlinewidth\":0,\"ticks\":\"\"},\"colorscale\":[[0.0,\"#0d0887\"],[0.1111111111111111,\"#46039f\"],[0.2222222222222222,\"#7201a8\"],[0.3333333333333333,\"#9c179e\"],[0.4444444444444444,\"#bd3786\"],[0.5555555555555556,\"#d8576b\"],[0.6666666666666666,\"#ed7953\"],[0.7777777777777778,\"#fb9f3a\"],[0.8888888888888888,\"#fdca26\"],[1.0,\"#f0f921\"]]}],\"surface\":[{\"type\":\"surface\",\"colorbar\":{\"outlinewidth\":0,\"ticks\":\"\"},\"colorscale\":[[0.0,\"#0d0887\"],[0.1111111111111111,\"#46039f\"],[0.2222222222222222,\"#7201a8\"],[0.3333333333333333,\"#9c179e\"],[0.4444444444444444,\"#bd3786\"],[0.5555555555555556,\"#d8576b\"],[0.6666666666666666,\"#ed7953\"],[0.7777777777777778,\"#fb9f3a\"],[0.8888888888888888,\"#fdca26\"],[1.0,\"#f0f921\"]]}],\"mesh3d\":[{\"type\":\"mesh3d\",\"colorbar\":{\"outlinewidth\":0,\"ticks\":\"\"}}],\"scatter\":[{\"fillpattern\":{\"fillmode\":\"overlay\",\"size\":10,\"solidity\":0.2},\"type\":\"scatter\"}],\"parcoords\":[{\"type\":\"parcoords\",\"line\":{\"colorbar\":{\"outlinewidth\":0,\"ticks\":\"\"}}}],\"scatterpolargl\":[{\"type\":\"scatterpolargl\",\"marker\":{\"colorbar\":{\"outlinewidth\":0,\"ticks\":\"\"}}}],\"bar\":[{\"error_x\":{\"color\":\"#2a3f5f\"},\"error_y\":{\"color\":\"#2a3f5f\"},\"marker\":{\"line\":{\"color\":\"#E5ECF6\",\"width\":0.5},\"pattern\":{\"fillmode\":\"overlay\",\"size\":10,\"solidity\":0.2}},\"type\":\"bar\"}],\"scattergeo\":[{\"type\":\"scattergeo\",\"marker\":{\"colorbar\":{\"outlinewidth\":0,\"ticks\":\"\"}}}],\"scatterpolar\":[{\"type\":\"scatterpolar\",\"marker\":{\"colorbar\":{\"outlinewidth\":0,\"ticks\":\"\"}}}],\"histogram\":[{\"marker\":{\"pattern\":{\"fillmode\":\"overlay\",\"size\":10,\"solidity\":0.2}},\"type\":\"histogram\"}],\"scattergl\":[{\"type\":\"scattergl\",\"marker\":{\"colorbar\":{\"outlinewidth\":0,\"ticks\":\"\"}}}],\"scatter3d\":[{\"type\":\"scatter3d\",\"line\":{\"colorbar\":{\"outlinewidth\":0,\"ticks\":\"\"}},\"marker\":{\"colorbar\":{\"outlinewidth\":0,\"ticks\":\"\"}}}],\"scattermapbox\":[{\"type\":\"scattermapbox\",\"marker\":{\"colorbar\":{\"outlinewidth\":0,\"ticks\":\"\"}}}],\"scatterternary\":[{\"type\":\"scatterternary\",\"marker\":{\"colorbar\":{\"outlinewidth\":0,\"ticks\":\"\"}}}],\"scattercarpet\":[{\"type\":\"scattercarpet\",\"marker\":{\"colorbar\":{\"outlinewidth\":0,\"ticks\":\"\"}}}],\"carpet\":[{\"aaxis\":{\"endlinecolor\":\"#2a3f5f\",\"gridcolor\":\"white\",\"linecolor\":\"white\",\"minorgridcolor\":\"white\",\"startlinecolor\":\"#2a3f5f\"},\"baxis\":{\"endlinecolor\":\"#2a3f5f\",\"gridcolor\":\"white\",\"linecolor\":\"white\",\"minorgridcolor\":\"white\",\"startlinecolor\":\"#2a3f5f\"},\"type\":\"carpet\"}],\"table\":[{\"cells\":{\"fill\":{\"color\":\"#EBF0F8\"},\"line\":{\"color\":\"white\"}},\"header\":{\"fill\":{\"color\":\"#C8D4E3\"},\"line\":{\"color\":\"white\"}},\"type\":\"table\"}],\"barpolar\":[{\"marker\":{\"line\":{\"color\":\"#E5ECF6\",\"width\":0.5},\"pattern\":{\"fillmode\":\"overlay\",\"size\":10,\"solidity\":0.2}},\"type\":\"barpolar\"}],\"pie\":[{\"automargin\":true,\"type\":\"pie\"}]},\"layout\":{\"autotypenumbers\":\"strict\",\"colorway\":[\"#636efa\",\"#EF553B\",\"#00cc96\",\"#ab63fa\",\"#FFA15A\",\"#19d3f3\",\"#FF6692\",\"#B6E880\",\"#FF97FF\",\"#FECB52\"],\"font\":{\"color\":\"#2a3f5f\"},\"hovermode\":\"closest\",\"hoverlabel\":{\"align\":\"left\"},\"paper_bgcolor\":\"white\",\"plot_bgcolor\":\"#E5ECF6\",\"polar\":{\"bgcolor\":\"#E5ECF6\",\"angularaxis\":{\"gridcolor\":\"white\",\"linecolor\":\"white\",\"ticks\":\"\"},\"radialaxis\":{\"gridcolor\":\"white\",\"linecolor\":\"white\",\"ticks\":\"\"}},\"ternary\":{\"bgcolor\":\"#E5ECF6\",\"aaxis\":{\"gridcolor\":\"white\",\"linecolor\":\"white\",\"ticks\":\"\"},\"baxis\":{\"gridcolor\":\"white\",\"linecolor\":\"white\",\"ticks\":\"\"},\"caxis\":{\"gridcolor\":\"white\",\"linecolor\":\"white\",\"ticks\":\"\"}},\"coloraxis\":{\"colorbar\":{\"outlinewidth\":0,\"ticks\":\"\"}},\"colorscale\":{\"sequential\":[[0.0,\"#0d0887\"],[0.1111111111111111,\"#46039f\"],[0.2222222222222222,\"#7201a8\"],[0.3333333333333333,\"#9c179e\"],[0.4444444444444444,\"#bd3786\"],[0.5555555555555556,\"#d8576b\"],[0.6666666666666666,\"#ed7953\"],[0.7777777777777778,\"#fb9f3a\"],[0.8888888888888888,\"#fdca26\"],[1.0,\"#f0f921\"]],\"sequentialminus\":[[0.0,\"#0d0887\"],[0.1111111111111111,\"#46039f\"],[0.2222222222222222,\"#7201a8\"],[0.3333333333333333,\"#9c179e\"],[0.4444444444444444,\"#bd3786\"],[0.5555555555555556,\"#d8576b\"],[0.6666666666666666,\"#ed7953\"],[0.7777777777777778,\"#fb9f3a\"],[0.8888888888888888,\"#fdca26\"],[1.0,\"#f0f921\"]],\"diverging\":[[0,\"#8e0152\"],[0.1,\"#c51b7d\"],[0.2,\"#de77ae\"],[0.3,\"#f1b6da\"],[0.4,\"#fde0ef\"],[0.5,\"#f7f7f7\"],[0.6,\"#e6f5d0\"],[0.7,\"#b8e186\"],[0.8,\"#7fbc41\"],[0.9,\"#4d9221\"],[1,\"#276419\"]]},\"xaxis\":{\"gridcolor\":\"white\",\"linecolor\":\"white\",\"ticks\":\"\",\"title\":{\"standoff\":15},\"zerolinecolor\":\"white\",\"automargin\":true,\"zerolinewidth\":2},\"yaxis\":{\"gridcolor\":\"white\",\"linecolor\":\"white\",\"ticks\":\"\",\"title\":{\"standoff\":15},\"zerolinecolor\":\"white\",\"automargin\":true,\"zerolinewidth\":2},\"scene\":{\"xaxis\":{\"backgroundcolor\":\"#E5ECF6\",\"gridcolor\":\"white\",\"linecolor\":\"white\",\"showbackground\":true,\"ticks\":\"\",\"zerolinecolor\":\"white\",\"gridwidth\":2},\"yaxis\":{\"backgroundcolor\":\"#E5ECF6\",\"gridcolor\":\"white\",\"linecolor\":\"white\",\"showbackground\":true,\"ticks\":\"\",\"zerolinecolor\":\"white\",\"gridwidth\":2},\"zaxis\":{\"backgroundcolor\":\"#E5ECF6\",\"gridcolor\":\"white\",\"linecolor\":\"white\",\"showbackground\":true,\"ticks\":\"\",\"zerolinecolor\":\"white\",\"gridwidth\":2}},\"shapedefaults\":{\"line\":{\"color\":\"#2a3f5f\"}},\"annotationdefaults\":{\"arrowcolor\":\"#2a3f5f\",\"arrowhead\":0,\"arrowwidth\":1},\"geo\":{\"bgcolor\":\"white\",\"landcolor\":\"#E5ECF6\",\"subunitcolor\":\"white\",\"showland\":true,\"showlakes\":true,\"lakecolor\":\"white\"},\"title\":{\"x\":0.05},\"mapbox\":{\"style\":\"light\"}}},\"xaxis\":{\"anchor\":\"y\",\"domain\":[0.0,1.0],\"title\":{\"text\":\"Director Name\"},\"showgrid\":false},\"yaxis\":{\"anchor\":\"x\",\"domain\":[0.0,1.0],\"title\":{\"text\":\"Shows Counts\"},\"showgrid\":false},\"legend\":{\"tracegroupgap\":0},\"title\":{\"text\":\"top director who has made more than 10 TV Shows\"},\"barmode\":\"relative\",\"plot_bgcolor\":\"#1c1c1c\"},                        {\"responsive\": true}                    ).then(function(){\n                            \nvar gd = document.getElementById('e3d96917-56c7-447e-871e-a3ddf088346a');\nvar x = new MutationObserver(function (mutations, observer) {{\n        var display = window.getComputedStyle(gd).display;\n        if (!display || display === 'none') {{\n            console.log([gd, 'removed!']);\n            Plotly.purge(gd);\n            observer.disconnect();\n        }}\n}});\n\n// Listen for the removal of the full notebook cells\nvar notebookContainer = gd.closest('#notebook-container');\nif (notebookContainer) {{\n    x.observe(notebookContainer, {childList: true});\n}}\n\n// Listen for the clearing of the current output cell\nvar outputEl = gd.closest('.output');\nif (outputEl) {{\n    x.observe(outputEl, {childList: true});\n}}\n\n                        })                };                });            </script>        </div>"
          },
          "metadata": {}
        }
      ],
      "execution_count": null
    },
    {
      "cell_type": "code",
      "source": [],
      "metadata": {
        "id": "yCmVPYZ3kU19"
      },
      "outputs": [],
      "execution_count": null
    },
    {
      "cell_type": "code",
      "source": [],
      "metadata": {
        "id": "czOuvxoCkU19"
      },
      "outputs": [],
      "execution_count": null
    },
    {
      "cell_type": "code",
      "source": [
        "netflix_filtered_data = netflix_data[~netflix_data['cast'].str.contains('Not Available', na= False)]\n",
        "netflix_cast = netflix_filtered_data['cast'].str.split(',').explode().str.strip().value_counts().reset_index().head(10)\n",
        "netflix_cast"
      ],
      "metadata": {
        "execution": {
          "iopub.status.busy": "2024-10-20T16:16:24.21904Z",
          "iopub.execute_input": "2024-10-20T16:16:24.220606Z",
          "iopub.status.idle": "2024-10-20T16:16:24.350701Z",
          "shell.execute_reply.started": "2024-10-20T16:16:24.220542Z",
          "shell.execute_reply": "2024-10-20T16:16:24.349399Z"
        },
        "trusted": true,
        "id": "rkx2Awq9kU19",
        "outputId": "953a613a-f05b-4280-c6ee-444793327108"
      },
      "outputs": [
        {
          "execution_count": 42,
          "output_type": "execute_result",
          "data": {
            "text/plain": "               cast  count\n0       Anupam Kher     43\n1    Shah Rukh Khan     35\n2     Julie Tejwani     33\n3  Naseeruddin Shah     32\n4  Takahiro Sakurai     32\n5      Rupa Bhimani     31\n6      Akshay Kumar     30\n7           Om Puri     30\n8         Yuki Kaji     29\n9      Paresh Rawal     28",
            "text/html": "<div>\n<style scoped>\n    .dataframe tbody tr th:only-of-type {\n        vertical-align: middle;\n    }\n\n    .dataframe tbody tr th {\n        vertical-align: top;\n    }\n\n    .dataframe thead th {\n        text-align: right;\n    }\n</style>\n<table border=\"1\" class=\"dataframe\">\n  <thead>\n    <tr style=\"text-align: right;\">\n      <th></th>\n      <th>cast</th>\n      <th>count</th>\n    </tr>\n  </thead>\n  <tbody>\n    <tr>\n      <th>0</th>\n      <td>Anupam Kher</td>\n      <td>43</td>\n    </tr>\n    <tr>\n      <th>1</th>\n      <td>Shah Rukh Khan</td>\n      <td>35</td>\n    </tr>\n    <tr>\n      <th>2</th>\n      <td>Julie Tejwani</td>\n      <td>33</td>\n    </tr>\n    <tr>\n      <th>3</th>\n      <td>Naseeruddin Shah</td>\n      <td>32</td>\n    </tr>\n    <tr>\n      <th>4</th>\n      <td>Takahiro Sakurai</td>\n      <td>32</td>\n    </tr>\n    <tr>\n      <th>5</th>\n      <td>Rupa Bhimani</td>\n      <td>31</td>\n    </tr>\n    <tr>\n      <th>6</th>\n      <td>Akshay Kumar</td>\n      <td>30</td>\n    </tr>\n    <tr>\n      <th>7</th>\n      <td>Om Puri</td>\n      <td>30</td>\n    </tr>\n    <tr>\n      <th>8</th>\n      <td>Yuki Kaji</td>\n      <td>29</td>\n    </tr>\n    <tr>\n      <th>9</th>\n      <td>Paresh Rawal</td>\n      <td>28</td>\n    </tr>\n  </tbody>\n</table>\n</div>"
          },
          "metadata": {}
        }
      ],
      "execution_count": null
    },
    {
      "cell_type": "code",
      "source": [
        "fig = px.bar(netflix_cast, x='cast', y= 'count', color= 'cast', title= 'Top 10 Actors & Actress')\n",
        "fig.update_traces(textposition='outside', texttemplate= '%{y}')\n",
        "fig.update_layout(yaxis= dict(title= 'Number of Movies', showgrid= False),\n",
        "                  xaxis= dict(showgrid= False, title= 'Actors'),\n",
        "                 title_font= dict(size=20),\n",
        "                 plot_bgcolor= '#1c1c1c')\n"
      ],
      "metadata": {
        "execution": {
          "iopub.status.busy": "2024-10-20T16:16:47.818519Z",
          "iopub.execute_input": "2024-10-20T16:16:47.818958Z",
          "iopub.status.idle": "2024-10-20T16:16:47.958867Z",
          "shell.execute_reply.started": "2024-10-20T16:16:47.818914Z",
          "shell.execute_reply": "2024-10-20T16:16:47.957392Z"
        },
        "trusted": true,
        "id": "6243B2otkU1-",
        "outputId": "4a3279d2-8314-41a6-bed5-84dea1e13189"
      },
      "outputs": [
        {
          "output_type": "display_data",
          "data": {
            "text/html": "<div>                            <div id=\"6a70bb34-1e0a-4519-84df-e60ccf0581a7\" class=\"plotly-graph-div\" style=\"height:525px; width:100%;\"></div>            <script type=\"text/javascript\">                require([\"plotly\"], function(Plotly) {                    window.PLOTLYENV=window.PLOTLYENV || {};                                    if (document.getElementById(\"6a70bb34-1e0a-4519-84df-e60ccf0581a7\")) {                    Plotly.newPlot(                        \"6a70bb34-1e0a-4519-84df-e60ccf0581a7\",                        [{\"alignmentgroup\":\"True\",\"hovertemplate\":\"cast=%{x}\\u003cbr\\u003ecount=%{y}\\u003cextra\\u003e\\u003c\\u002fextra\\u003e\",\"legendgroup\":\"Anupam Kher\",\"marker\":{\"color\":\"#636efa\",\"pattern\":{\"shape\":\"\"}},\"name\":\"Anupam Kher\",\"offsetgroup\":\"Anupam Kher\",\"orientation\":\"v\",\"showlegend\":true,\"textposition\":\"outside\",\"x\":[\"Anupam Kher\"],\"xaxis\":\"x\",\"y\":[43],\"yaxis\":\"y\",\"type\":\"bar\",\"texttemplate\":\"%{y}\"},{\"alignmentgroup\":\"True\",\"hovertemplate\":\"cast=%{x}\\u003cbr\\u003ecount=%{y}\\u003cextra\\u003e\\u003c\\u002fextra\\u003e\",\"legendgroup\":\"Shah Rukh Khan\",\"marker\":{\"color\":\"#EF553B\",\"pattern\":{\"shape\":\"\"}},\"name\":\"Shah Rukh Khan\",\"offsetgroup\":\"Shah Rukh Khan\",\"orientation\":\"v\",\"showlegend\":true,\"textposition\":\"outside\",\"x\":[\"Shah Rukh Khan\"],\"xaxis\":\"x\",\"y\":[35],\"yaxis\":\"y\",\"type\":\"bar\",\"texttemplate\":\"%{y}\"},{\"alignmentgroup\":\"True\",\"hovertemplate\":\"cast=%{x}\\u003cbr\\u003ecount=%{y}\\u003cextra\\u003e\\u003c\\u002fextra\\u003e\",\"legendgroup\":\"Julie Tejwani\",\"marker\":{\"color\":\"#00cc96\",\"pattern\":{\"shape\":\"\"}},\"name\":\"Julie Tejwani\",\"offsetgroup\":\"Julie Tejwani\",\"orientation\":\"v\",\"showlegend\":true,\"textposition\":\"outside\",\"x\":[\"Julie Tejwani\"],\"xaxis\":\"x\",\"y\":[33],\"yaxis\":\"y\",\"type\":\"bar\",\"texttemplate\":\"%{y}\"},{\"alignmentgroup\":\"True\",\"hovertemplate\":\"cast=%{x}\\u003cbr\\u003ecount=%{y}\\u003cextra\\u003e\\u003c\\u002fextra\\u003e\",\"legendgroup\":\"Naseeruddin Shah\",\"marker\":{\"color\":\"#ab63fa\",\"pattern\":{\"shape\":\"\"}},\"name\":\"Naseeruddin Shah\",\"offsetgroup\":\"Naseeruddin Shah\",\"orientation\":\"v\",\"showlegend\":true,\"textposition\":\"outside\",\"x\":[\"Naseeruddin Shah\"],\"xaxis\":\"x\",\"y\":[32],\"yaxis\":\"y\",\"type\":\"bar\",\"texttemplate\":\"%{y}\"},{\"alignmentgroup\":\"True\",\"hovertemplate\":\"cast=%{x}\\u003cbr\\u003ecount=%{y}\\u003cextra\\u003e\\u003c\\u002fextra\\u003e\",\"legendgroup\":\"Takahiro Sakurai\",\"marker\":{\"color\":\"#FFA15A\",\"pattern\":{\"shape\":\"\"}},\"name\":\"Takahiro Sakurai\",\"offsetgroup\":\"Takahiro Sakurai\",\"orientation\":\"v\",\"showlegend\":true,\"textposition\":\"outside\",\"x\":[\"Takahiro Sakurai\"],\"xaxis\":\"x\",\"y\":[32],\"yaxis\":\"y\",\"type\":\"bar\",\"texttemplate\":\"%{y}\"},{\"alignmentgroup\":\"True\",\"hovertemplate\":\"cast=%{x}\\u003cbr\\u003ecount=%{y}\\u003cextra\\u003e\\u003c\\u002fextra\\u003e\",\"legendgroup\":\"Rupa Bhimani\",\"marker\":{\"color\":\"#19d3f3\",\"pattern\":{\"shape\":\"\"}},\"name\":\"Rupa Bhimani\",\"offsetgroup\":\"Rupa Bhimani\",\"orientation\":\"v\",\"showlegend\":true,\"textposition\":\"outside\",\"x\":[\"Rupa Bhimani\"],\"xaxis\":\"x\",\"y\":[31],\"yaxis\":\"y\",\"type\":\"bar\",\"texttemplate\":\"%{y}\"},{\"alignmentgroup\":\"True\",\"hovertemplate\":\"cast=%{x}\\u003cbr\\u003ecount=%{y}\\u003cextra\\u003e\\u003c\\u002fextra\\u003e\",\"legendgroup\":\"Akshay Kumar\",\"marker\":{\"color\":\"#FF6692\",\"pattern\":{\"shape\":\"\"}},\"name\":\"Akshay Kumar\",\"offsetgroup\":\"Akshay Kumar\",\"orientation\":\"v\",\"showlegend\":true,\"textposition\":\"outside\",\"x\":[\"Akshay Kumar\"],\"xaxis\":\"x\",\"y\":[30],\"yaxis\":\"y\",\"type\":\"bar\",\"texttemplate\":\"%{y}\"},{\"alignmentgroup\":\"True\",\"hovertemplate\":\"cast=%{x}\\u003cbr\\u003ecount=%{y}\\u003cextra\\u003e\\u003c\\u002fextra\\u003e\",\"legendgroup\":\"Om Puri\",\"marker\":{\"color\":\"#B6E880\",\"pattern\":{\"shape\":\"\"}},\"name\":\"Om Puri\",\"offsetgroup\":\"Om Puri\",\"orientation\":\"v\",\"showlegend\":true,\"textposition\":\"outside\",\"x\":[\"Om Puri\"],\"xaxis\":\"x\",\"y\":[30],\"yaxis\":\"y\",\"type\":\"bar\",\"texttemplate\":\"%{y}\"},{\"alignmentgroup\":\"True\",\"hovertemplate\":\"cast=%{x}\\u003cbr\\u003ecount=%{y}\\u003cextra\\u003e\\u003c\\u002fextra\\u003e\",\"legendgroup\":\"Yuki Kaji\",\"marker\":{\"color\":\"#FF97FF\",\"pattern\":{\"shape\":\"\"}},\"name\":\"Yuki Kaji\",\"offsetgroup\":\"Yuki Kaji\",\"orientation\":\"v\",\"showlegend\":true,\"textposition\":\"outside\",\"x\":[\"Yuki Kaji\"],\"xaxis\":\"x\",\"y\":[29],\"yaxis\":\"y\",\"type\":\"bar\",\"texttemplate\":\"%{y}\"},{\"alignmentgroup\":\"True\",\"hovertemplate\":\"cast=%{x}\\u003cbr\\u003ecount=%{y}\\u003cextra\\u003e\\u003c\\u002fextra\\u003e\",\"legendgroup\":\"Paresh Rawal\",\"marker\":{\"color\":\"#FECB52\",\"pattern\":{\"shape\":\"\"}},\"name\":\"Paresh Rawal\",\"offsetgroup\":\"Paresh Rawal\",\"orientation\":\"v\",\"showlegend\":true,\"textposition\":\"outside\",\"x\":[\"Paresh Rawal\"],\"xaxis\":\"x\",\"y\":[28],\"yaxis\":\"y\",\"type\":\"bar\",\"texttemplate\":\"%{y}\"}],                        {\"template\":{\"data\":{\"histogram2dcontour\":[{\"type\":\"histogram2dcontour\",\"colorbar\":{\"outlinewidth\":0,\"ticks\":\"\"},\"colorscale\":[[0.0,\"#0d0887\"],[0.1111111111111111,\"#46039f\"],[0.2222222222222222,\"#7201a8\"],[0.3333333333333333,\"#9c179e\"],[0.4444444444444444,\"#bd3786\"],[0.5555555555555556,\"#d8576b\"],[0.6666666666666666,\"#ed7953\"],[0.7777777777777778,\"#fb9f3a\"],[0.8888888888888888,\"#fdca26\"],[1.0,\"#f0f921\"]]}],\"choropleth\":[{\"type\":\"choropleth\",\"colorbar\":{\"outlinewidth\":0,\"ticks\":\"\"}}],\"histogram2d\":[{\"type\":\"histogram2d\",\"colorbar\":{\"outlinewidth\":0,\"ticks\":\"\"},\"colorscale\":[[0.0,\"#0d0887\"],[0.1111111111111111,\"#46039f\"],[0.2222222222222222,\"#7201a8\"],[0.3333333333333333,\"#9c179e\"],[0.4444444444444444,\"#bd3786\"],[0.5555555555555556,\"#d8576b\"],[0.6666666666666666,\"#ed7953\"],[0.7777777777777778,\"#fb9f3a\"],[0.8888888888888888,\"#fdca26\"],[1.0,\"#f0f921\"]]}],\"heatmap\":[{\"type\":\"heatmap\",\"colorbar\":{\"outlinewidth\":0,\"ticks\":\"\"},\"colorscale\":[[0.0,\"#0d0887\"],[0.1111111111111111,\"#46039f\"],[0.2222222222222222,\"#7201a8\"],[0.3333333333333333,\"#9c179e\"],[0.4444444444444444,\"#bd3786\"],[0.5555555555555556,\"#d8576b\"],[0.6666666666666666,\"#ed7953\"],[0.7777777777777778,\"#fb9f3a\"],[0.8888888888888888,\"#fdca26\"],[1.0,\"#f0f921\"]]}],\"heatmapgl\":[{\"type\":\"heatmapgl\",\"colorbar\":{\"outlinewidth\":0,\"ticks\":\"\"},\"colorscale\":[[0.0,\"#0d0887\"],[0.1111111111111111,\"#46039f\"],[0.2222222222222222,\"#7201a8\"],[0.3333333333333333,\"#9c179e\"],[0.4444444444444444,\"#bd3786\"],[0.5555555555555556,\"#d8576b\"],[0.6666666666666666,\"#ed7953\"],[0.7777777777777778,\"#fb9f3a\"],[0.8888888888888888,\"#fdca26\"],[1.0,\"#f0f921\"]]}],\"contourcarpet\":[{\"type\":\"contourcarpet\",\"colorbar\":{\"outlinewidth\":0,\"ticks\":\"\"}}],\"contour\":[{\"type\":\"contour\",\"colorbar\":{\"outlinewidth\":0,\"ticks\":\"\"},\"colorscale\":[[0.0,\"#0d0887\"],[0.1111111111111111,\"#46039f\"],[0.2222222222222222,\"#7201a8\"],[0.3333333333333333,\"#9c179e\"],[0.4444444444444444,\"#bd3786\"],[0.5555555555555556,\"#d8576b\"],[0.6666666666666666,\"#ed7953\"],[0.7777777777777778,\"#fb9f3a\"],[0.8888888888888888,\"#fdca26\"],[1.0,\"#f0f921\"]]}],\"surface\":[{\"type\":\"surface\",\"colorbar\":{\"outlinewidth\":0,\"ticks\":\"\"},\"colorscale\":[[0.0,\"#0d0887\"],[0.1111111111111111,\"#46039f\"],[0.2222222222222222,\"#7201a8\"],[0.3333333333333333,\"#9c179e\"],[0.4444444444444444,\"#bd3786\"],[0.5555555555555556,\"#d8576b\"],[0.6666666666666666,\"#ed7953\"],[0.7777777777777778,\"#fb9f3a\"],[0.8888888888888888,\"#fdca26\"],[1.0,\"#f0f921\"]]}],\"mesh3d\":[{\"type\":\"mesh3d\",\"colorbar\":{\"outlinewidth\":0,\"ticks\":\"\"}}],\"scatter\":[{\"fillpattern\":{\"fillmode\":\"overlay\",\"size\":10,\"solidity\":0.2},\"type\":\"scatter\"}],\"parcoords\":[{\"type\":\"parcoords\",\"line\":{\"colorbar\":{\"outlinewidth\":0,\"ticks\":\"\"}}}],\"scatterpolargl\":[{\"type\":\"scatterpolargl\",\"marker\":{\"colorbar\":{\"outlinewidth\":0,\"ticks\":\"\"}}}],\"bar\":[{\"error_x\":{\"color\":\"#2a3f5f\"},\"error_y\":{\"color\":\"#2a3f5f\"},\"marker\":{\"line\":{\"color\":\"#E5ECF6\",\"width\":0.5},\"pattern\":{\"fillmode\":\"overlay\",\"size\":10,\"solidity\":0.2}},\"type\":\"bar\"}],\"scattergeo\":[{\"type\":\"scattergeo\",\"marker\":{\"colorbar\":{\"outlinewidth\":0,\"ticks\":\"\"}}}],\"scatterpolar\":[{\"type\":\"scatterpolar\",\"marker\":{\"colorbar\":{\"outlinewidth\":0,\"ticks\":\"\"}}}],\"histogram\":[{\"marker\":{\"pattern\":{\"fillmode\":\"overlay\",\"size\":10,\"solidity\":0.2}},\"type\":\"histogram\"}],\"scattergl\":[{\"type\":\"scattergl\",\"marker\":{\"colorbar\":{\"outlinewidth\":0,\"ticks\":\"\"}}}],\"scatter3d\":[{\"type\":\"scatter3d\",\"line\":{\"colorbar\":{\"outlinewidth\":0,\"ticks\":\"\"}},\"marker\":{\"colorbar\":{\"outlinewidth\":0,\"ticks\":\"\"}}}],\"scattermapbox\":[{\"type\":\"scattermapbox\",\"marker\":{\"colorbar\":{\"outlinewidth\":0,\"ticks\":\"\"}}}],\"scatterternary\":[{\"type\":\"scatterternary\",\"marker\":{\"colorbar\":{\"outlinewidth\":0,\"ticks\":\"\"}}}],\"scattercarpet\":[{\"type\":\"scattercarpet\",\"marker\":{\"colorbar\":{\"outlinewidth\":0,\"ticks\":\"\"}}}],\"carpet\":[{\"aaxis\":{\"endlinecolor\":\"#2a3f5f\",\"gridcolor\":\"white\",\"linecolor\":\"white\",\"minorgridcolor\":\"white\",\"startlinecolor\":\"#2a3f5f\"},\"baxis\":{\"endlinecolor\":\"#2a3f5f\",\"gridcolor\":\"white\",\"linecolor\":\"white\",\"minorgridcolor\":\"white\",\"startlinecolor\":\"#2a3f5f\"},\"type\":\"carpet\"}],\"table\":[{\"cells\":{\"fill\":{\"color\":\"#EBF0F8\"},\"line\":{\"color\":\"white\"}},\"header\":{\"fill\":{\"color\":\"#C8D4E3\"},\"line\":{\"color\":\"white\"}},\"type\":\"table\"}],\"barpolar\":[{\"marker\":{\"line\":{\"color\":\"#E5ECF6\",\"width\":0.5},\"pattern\":{\"fillmode\":\"overlay\",\"size\":10,\"solidity\":0.2}},\"type\":\"barpolar\"}],\"pie\":[{\"automargin\":true,\"type\":\"pie\"}]},\"layout\":{\"autotypenumbers\":\"strict\",\"colorway\":[\"#636efa\",\"#EF553B\",\"#00cc96\",\"#ab63fa\",\"#FFA15A\",\"#19d3f3\",\"#FF6692\",\"#B6E880\",\"#FF97FF\",\"#FECB52\"],\"font\":{\"color\":\"#2a3f5f\"},\"hovermode\":\"closest\",\"hoverlabel\":{\"align\":\"left\"},\"paper_bgcolor\":\"white\",\"plot_bgcolor\":\"#E5ECF6\",\"polar\":{\"bgcolor\":\"#E5ECF6\",\"angularaxis\":{\"gridcolor\":\"white\",\"linecolor\":\"white\",\"ticks\":\"\"},\"radialaxis\":{\"gridcolor\":\"white\",\"linecolor\":\"white\",\"ticks\":\"\"}},\"ternary\":{\"bgcolor\":\"#E5ECF6\",\"aaxis\":{\"gridcolor\":\"white\",\"linecolor\":\"white\",\"ticks\":\"\"},\"baxis\":{\"gridcolor\":\"white\",\"linecolor\":\"white\",\"ticks\":\"\"},\"caxis\":{\"gridcolor\":\"white\",\"linecolor\":\"white\",\"ticks\":\"\"}},\"coloraxis\":{\"colorbar\":{\"outlinewidth\":0,\"ticks\":\"\"}},\"colorscale\":{\"sequential\":[[0.0,\"#0d0887\"],[0.1111111111111111,\"#46039f\"],[0.2222222222222222,\"#7201a8\"],[0.3333333333333333,\"#9c179e\"],[0.4444444444444444,\"#bd3786\"],[0.5555555555555556,\"#d8576b\"],[0.6666666666666666,\"#ed7953\"],[0.7777777777777778,\"#fb9f3a\"],[0.8888888888888888,\"#fdca26\"],[1.0,\"#f0f921\"]],\"sequentialminus\":[[0.0,\"#0d0887\"],[0.1111111111111111,\"#46039f\"],[0.2222222222222222,\"#7201a8\"],[0.3333333333333333,\"#9c179e\"],[0.4444444444444444,\"#bd3786\"],[0.5555555555555556,\"#d8576b\"],[0.6666666666666666,\"#ed7953\"],[0.7777777777777778,\"#fb9f3a\"],[0.8888888888888888,\"#fdca26\"],[1.0,\"#f0f921\"]],\"diverging\":[[0,\"#8e0152\"],[0.1,\"#c51b7d\"],[0.2,\"#de77ae\"],[0.3,\"#f1b6da\"],[0.4,\"#fde0ef\"],[0.5,\"#f7f7f7\"],[0.6,\"#e6f5d0\"],[0.7,\"#b8e186\"],[0.8,\"#7fbc41\"],[0.9,\"#4d9221\"],[1,\"#276419\"]]},\"xaxis\":{\"gridcolor\":\"white\",\"linecolor\":\"white\",\"ticks\":\"\",\"title\":{\"standoff\":15},\"zerolinecolor\":\"white\",\"automargin\":true,\"zerolinewidth\":2},\"yaxis\":{\"gridcolor\":\"white\",\"linecolor\":\"white\",\"ticks\":\"\",\"title\":{\"standoff\":15},\"zerolinecolor\":\"white\",\"automargin\":true,\"zerolinewidth\":2},\"scene\":{\"xaxis\":{\"backgroundcolor\":\"#E5ECF6\",\"gridcolor\":\"white\",\"linecolor\":\"white\",\"showbackground\":true,\"ticks\":\"\",\"zerolinecolor\":\"white\",\"gridwidth\":2},\"yaxis\":{\"backgroundcolor\":\"#E5ECF6\",\"gridcolor\":\"white\",\"linecolor\":\"white\",\"showbackground\":true,\"ticks\":\"\",\"zerolinecolor\":\"white\",\"gridwidth\":2},\"zaxis\":{\"backgroundcolor\":\"#E5ECF6\",\"gridcolor\":\"white\",\"linecolor\":\"white\",\"showbackground\":true,\"ticks\":\"\",\"zerolinecolor\":\"white\",\"gridwidth\":2}},\"shapedefaults\":{\"line\":{\"color\":\"#2a3f5f\"}},\"annotationdefaults\":{\"arrowcolor\":\"#2a3f5f\",\"arrowhead\":0,\"arrowwidth\":1},\"geo\":{\"bgcolor\":\"white\",\"landcolor\":\"#E5ECF6\",\"subunitcolor\":\"white\",\"showland\":true,\"showlakes\":true,\"lakecolor\":\"white\"},\"title\":{\"x\":0.05},\"mapbox\":{\"style\":\"light\"}}},\"xaxis\":{\"anchor\":\"y\",\"domain\":[0.0,1.0],\"title\":{\"text\":\"Actors\"},\"categoryorder\":\"array\",\"categoryarray\":[\"Anupam Kher\",\"Shah Rukh Khan\",\"Julie Tejwani\",\"Naseeruddin Shah\",\"Takahiro Sakurai\",\"Rupa Bhimani\",\"Akshay Kumar\",\"Om Puri\",\"Yuki Kaji\",\"Paresh Rawal\"],\"showgrid\":false},\"yaxis\":{\"anchor\":\"x\",\"domain\":[0.0,1.0],\"title\":{\"text\":\"Number of Movies\"},\"showgrid\":false},\"legend\":{\"title\":{\"text\":\"cast\"},\"tracegroupgap\":0},\"title\":{\"text\":\"Top 10 Actors & Actress\",\"font\":{\"size\":20}},\"barmode\":\"relative\",\"plot_bgcolor\":\"#1c1c1c\"},                        {\"responsive\": true}                    ).then(function(){\n                            \nvar gd = document.getElementById('6a70bb34-1e0a-4519-84df-e60ccf0581a7');\nvar x = new MutationObserver(function (mutations, observer) {{\n        var display = window.getComputedStyle(gd).display;\n        if (!display || display === 'none') {{\n            console.log([gd, 'removed!']);\n            Plotly.purge(gd);\n            observer.disconnect();\n        }}\n}});\n\n// Listen for the removal of the full notebook cells\nvar notebookContainer = gd.closest('#notebook-container');\nif (notebookContainer) {{\n    x.observe(notebookContainer, {childList: true});\n}}\n\n// Listen for the clearing of the current output cell\nvar outputEl = gd.closest('.output');\nif (outputEl) {{\n    x.observe(outputEl, {childList: true});\n}}\n\n                        })                };                });            </script>        </div>"
          },
          "metadata": {}
        }
      ],
      "execution_count": null
    }
  ]
}